{
 "cells": [
  {
   "cell_type": "markdown",
   "id": "28c27b5e",
   "metadata": {},
   "source": [
    "# Download the repo from: https://github.com/AdhyaSuman/CTM-Neg and run the setup file to install OCTIS"
   ]
  },
  {
   "cell_type": "code",
   "execution_count": null,
   "id": "b993f0d8",
   "metadata": {
    "ExecuteTime": {
     "end_time": "2022-11-22T15:18:51.219586Z",
     "start_time": "2022-11-22T15:18:51.216500Z"
    }
   },
   "outputs": [],
   "source": [
    "cd .."
   ]
  },
  {
   "cell_type": "markdown",
   "id": "b9a74407",
   "metadata": {},
   "source": [
    "Run the setup.py file using pip"
   ]
  },
  {
   "cell_type": "code",
   "execution_count": null,
   "id": "01a791ea",
   "metadata": {
    "ExecuteTime": {
     "end_time": "2022-11-22T15:19:55.525378Z",
     "start_time": "2022-11-22T15:19:47.903566Z"
    }
   },
   "outputs": [],
   "source": [
    "!pip install -e."
   ]
  },
  {
   "cell_type": "markdown",
   "id": "b9ac586c",
   "metadata": {},
   "source": [
    "# Imports"
   ]
  },
  {
   "cell_type": "code",
   "execution_count": null,
   "id": "0460c7a4",
   "metadata": {
    "ExecuteTime": {
     "end_time": "2022-11-22T15:20:43.154347Z",
     "start_time": "2022-11-22T15:20:39.472127Z"
    }
   },
   "outputs": [],
   "source": [
    "from octis.dataset.dataset import Dataset\n",
    "\n",
    "#Import models:\n",
    "from octis.models.LDA import LDA\n",
    "from octis.models.ETM import ETM\n",
    "from octis.models.CTM import CTM\n",
    "from octis.models.CTMN import CTMN\n",
    "\n",
    "#Import coherence metrics:\n",
    "from octis.evaluation_metrics.coherence_metrics import *\n",
    "\n",
    "#Import TD metrics:\n",
    "from octis.evaluation_metrics.diversity_metrics import *\n",
    "\n",
    "import random, torch"
   ]
  },
  {
   "cell_type": "markdown",
   "id": "8d5e9562",
   "metadata": {},
   "source": [
    "# Utils"
   ]
  },
  {
   "cell_type": "code",
   "execution_count": null,
   "id": "2dfb8b61",
   "metadata": {
    "ExecuteTime": {
     "end_time": "2022-11-22T15:20:43.163962Z",
     "start_time": "2022-11-22T15:20:43.156478Z"
    },
    "code_folding": []
   },
   "outputs": [],
   "source": [
    "data_dir = './preprocessed_datasets'\n",
    "\n",
    "\n",
    "def get_dataset(dataset_name):\n",
    "    data = Dataset()\n",
    "    if dataset_name=='20NG':\n",
    "        data.fetch_dataset(\"20NewsGroup\")\n",
    "    elif dataset_name=='GN':\n",
    "        data.load_custom_dataset_from_folder(data_dir + \"/GN\")\n",
    "    elif dataset_name == 'M10':\n",
    "        data.load_custom_dataset_from_folder(data_dir + '/M10')\n",
    "    else:\n",
    "        raise Exception('Missing Dataset name...!!!')\n",
    "    return data\n",
    "\n",
    "\n",
    "def get_model(model_name, num_topics, dataset_name, use_partitions=False, epochs=50):\n",
    "    if model_name=='ETM':\n",
    "        model = ETM(num_topics=num_topics, num_epochs=epochs, \n",
    "                    train_embeddings=True, use_partitions=use_partitions)\n",
    "        \n",
    "    elif model_name=='CTM_combined':\n",
    "        model = CTM(num_topics=num_topics, num_epochs=epochs,\n",
    "                    bert_path='./bert/ctm_combined/paraphrase-distilroberta-base-v2_'+dataset_name,\n",
    "                    bert_model='paraphrase-distilroberta-base-v2',\n",
    "                    learn_priors=True,\n",
    "                    inference_type=\"combined\", use_partitions=use_partitions)\n",
    "        \n",
    "    elif model_name=='ProdLDA':\n",
    "        model = ProdLDA(num_topics=num_topics, use_partitions=use_partitions, num_epochs=epochs)\n",
    "        \n",
    "    elif model_name=='NeuralLDA':\n",
    "        model = NeuralLDA(num_topics=num_topics, use_partitions=use_partitions, num_epochs=epochs)\n",
    "    \n",
    "    elif model_name=='LDA':\n",
    "        model = LDA(num_topics=num_topics, use_partitions=use_partitions, iterations=epochs)\n",
    "    \n",
    "    elif model_name=='NegCTM':\n",
    "        model = CTMN(num_topics=num_topics, hidden_sizes=(100, 100),\n",
    "                      dropout=0.0,\n",
    "                      num_epochs=epochs,\n",
    "                      bert_path='./bert/ctm_combined/paraphrase-distilroberta-base-v2_'+dataset_name,\n",
    "                      bert_model='paraphrase-distilroberta-base-v2',\n",
    "                      learn_priors=True,\n",
    "                      inference_type=\"combined\", use_partitions=use_partitions)\n",
    "    else:\n",
    "        raise Exception('Model {} is not avilable'.format(model_name))\n",
    "        \n",
    "    return model"
   ]
  },
  {
   "cell_type": "markdown",
   "id": "3469210b",
   "metadata": {},
   "source": [
    "# Run"
   ]
  },
  {
   "cell_type": "code",
   "execution_count": null,
   "id": "192c0243",
   "metadata": {
    "ExecuteTime": {
     "end_time": "2022-11-22T07:27:49.038648Z",
     "start_time": "2022-11-22T07:17:46.600252Z"
    },
    "code_folding": [],
    "scrolled": true
   },
   "outputs": [],
   "source": [
    "from octis.optimization.optimizer import Optimizer\n",
    "from skopt.space.space import Real, Categorical, Integer\n",
    "\n",
    "search_space = {\"topic_perturb\": Categorical({1, 2, 3}), \n",
    "                \"tloss_weight\": Real(0.0, 1.0)\n",
    "}\n",
    "optimization_runs= 50\n",
    "model_runs= 5\n",
    "\n",
    "n_topics = [10, 20, 30, 40, 50, 60, 90, 120]\n",
    "models = ['NegCTM'] \n",
    "datasets = ['20NG', 'GN', 'M10']\n",
    "\n",
    "irbo = InvertedRBO(topk=10)\n",
    "\n",
    "for d in datasets:\n",
    "    data = get_dataset(d)\n",
    "    \n",
    "    test=data.get_corpus()\n",
    "    \n",
    "    eval_metric = Coherence(texts=test, measure='c_npmi',topk=10)\n",
    "    cv = Coherence(texts=test, measure='c_v', topk=10)\n",
    "    \n",
    "    for m in models:\n",
    "        for k in n_topics:\n",
    "            model = get_model(model_name=m, num_topics=k, dataset_name=d)\n",
    "            \n",
    "            optimizer=Optimizer()\n",
    "            \n",
    "            optimization_result = optimizer.optimize(\n",
    "                model, data, eval_metric, search_space, number_of_call=optimization_runs, \n",
    "                model_runs=model_runs, save_models=False, \n",
    "                extra_metrics=[cv, td, irbo], # to keep track of other metrics\n",
    "                save_name=\"results_{}_{}_topics_{}\".format(m,d,k),\n",
    "                save_path='./results/Hyp_optimized/')\n",
    "            \n",
    "            optimization_result.save_to_csv(\"./results/Hyp_optimized/results_{}_{}_topics_{}.csv\".format(m,d,k))"
   ]
  },
  {
   "cell_type": "code",
   "execution_count": null,
   "id": "29fb4f8d",
   "metadata": {},
   "outputs": [],
   "source": []
  }
 ],
 "metadata": {
  "hide_input": false,
  "kernelspec": {
   "display_name": "Python 3 (ipykernel)",
   "language": "python",
   "name": "python3"
  },
  "language_info": {
   "codemirror_mode": {
    "name": "ipython",
    "version": 3
   },
   "file_extension": ".py",
   "mimetype": "text/x-python",
   "name": "python",
   "nbconvert_exporter": "python",
   "pygments_lexer": "ipython3",
   "version": "3.7.13"
  },
  "toc": {
   "base_numbering": 1,
   "nav_menu": {},
   "number_sections": true,
   "sideBar": true,
   "skip_h1_title": false,
   "title_cell": "Table of Contents",
   "title_sidebar": "Contents",
   "toc_cell": false,
   "toc_position": {},
   "toc_section_display": true,
   "toc_window_display": false
  }
 },
 "nbformat": 4,
 "nbformat_minor": 5
}
