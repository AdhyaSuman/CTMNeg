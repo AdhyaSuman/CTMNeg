{
 "cells": [
  {
   "cell_type": "markdown",
   "id": "28c27b5e",
   "metadata": {},
   "source": [
    "# Download the repo from https://github.com/AdhyaSuman/CTMNeg and run the setup file to install OCTIS"
   ]
  },
  {
   "cell_type": "code",
   "execution_count": null,
   "id": "b993f0d8",
   "metadata": {
    "ExecuteTime": {
     "end_time": "2022-11-22T15:18:51.219586Z",
     "start_time": "2022-11-22T15:18:51.216500Z"
    }
   },
   "outputs": [],
   "source": [
    "cd .."
   ]
  },
  {
   "cell_type": "markdown",
   "id": "b9a74407",
   "metadata": {},
   "source": [
    "Run the setup.py file using pip"
   ]
  },
  {
   "cell_type": "code",
   "execution_count": null,
   "id": "01a791ea",
   "metadata": {
    "ExecuteTime": {
     "end_time": "2022-11-22T15:19:55.525378Z",
     "start_time": "2022-11-22T15:19:47.903566Z"
    }
   },
   "outputs": [],
   "source": [
    "!pip install -e."
   ]
  },
  {
   "cell_type": "code",
   "execution_count": null,
   "id": "0460c7a4",
   "metadata": {
    "ExecuteTime": {
     "end_time": "2022-11-22T10:52:00.366512Z",
     "start_time": "2022-11-22T10:51:59.385653Z"
    }
   },
   "outputs": [],
   "source": [
    "#Import models:\n",
    "from octis.models.LDA import LDA\n",
    "from octis.models.ETM import ETM\n",
    "from octis.models.CTM import CTM\n",
    "from octis.models.CTMN import CTMN\n",
    "from octis.models.ProdLDA import ProdLDA\n",
    "\n",
    "#Import coherence metrics:\n",
    "from octis.evaluation_metrics.coherence_metrics import *\n",
    "\n",
    "#Import TD metrics:\n",
    "from octis.evaluation_metrics.diversity_metrics import *\n",
    "\n",
    "import random, torch"
   ]
  },
  {
   "cell_type": "markdown",
   "id": "8d5e9562",
   "metadata": {},
   "source": [
    "# Utils"
   ]
  },
  {
   "cell_type": "code",
   "execution_count": null,
   "id": "2dfb8b61",
   "metadata": {
    "ExecuteTime": {
     "end_time": "2022-11-22T10:52:30.541467Z",
     "start_time": "2022-11-22T10:52:30.535239Z"
    },
    "code_folding": []
   },
   "outputs": [],
   "source": [
    "data_dir = './preprocessed_datasets'\n",
    "\n",
    "\n",
    "def get_dataset(dataset_name):\n",
    "    data = Dataset()\n",
    "    if dataset_name=='20NG':\n",
    "        data.fetch_dataset(\"20NewsGroup\")\n",
    "    elif dataset_name=='GN':\n",
    "        data.load_custom_dataset_from_folder(data_dir + \"/GN\")\n",
    "    elif dataset_name == 'M10':\n",
    "        data.load_custom_dataset_from_folder(data_dir + '/M10')\n",
    "    else:\n",
    "        raise Exception('Missing Dataset name...!!!')\n",
    "    return data\n",
    "\n",
    "\n",
    "def get_model(model_name, num_topics, dataset_name, use_partitions=False, epochs=50,\n",
    "              sbert='paraphrase-distilroberta-base-v2'):\n",
    "    if model_name=='ETM':\n",
    "        model = ETM(num_topics=num_topics, num_epochs=epochs, \n",
    "                    train_embeddings=True, use_partitions=use_partitions)\n",
    "        \n",
    "    elif model_name=='CTM_combined':\n",
    "        model = CTM(num_topics=num_topics, num_epochs=epochs,\n",
    "                      bert_path='./bert/{}_{}_{}_partition{}'.format(model_name, dataset_name, sbert, use_partitions),\n",
    "                    bert_model=sbert,\n",
    "                    learn_priors=True,\n",
    "                    inference_type=\"combined\", use_partitions=use_partitions)\n",
    "        \n",
    "    elif model_name=='ProdLDA':\n",
    "        model = ProdLDA(num_topics=num_topics, use_partitions=use_partitions, num_epochs=epochs)\n",
    "        \n",
    "    elif model_name=='NeuralLDA':\n",
    "        model = NeuralLDA(num_topics=num_topics, use_partitions=use_partitions, num_epochs=epochs)\n",
    "    \n",
    "    elif model_name=='LDA':\n",
    "        model = LDA(num_topics=num_topics, use_partitions=use_partitions, iterations=epochs)\n",
    "    \n",
    "    elif model_name=='NegCTM':\n",
    "        model = CTMN(num_topics=num_topics, hidden_sizes=(100, 100),\n",
    "                      dropout=0.0,\n",
    "                      num_epochs=epochs,\n",
    "                      bert_path='./bert/{}_{}_{}_partition{}'.format(model_name, dataset_name, sbert, use_partitions),\n",
    "                      bert_model=sbert,\n",
    "                      learn_priors=True,\n",
    "                      inference_type=\"combined\", use_partitions=use_partitions)\n",
    "    else:\n",
    "        raise Exception('Model {} is not avilable'.format(model_name))\n",
    "        \n",
    "    return model"
   ]
  },
  {
   "cell_type": "markdown",
   "id": "3469210b",
   "metadata": {},
   "source": [
    "# Run"
   ]
  },
  {
   "cell_type": "code",
   "execution_count": null,
   "id": "192c0243",
   "metadata": {
    "ExecuteTime": {
     "end_time": "2022-11-22T10:55:20.525204Z",
     "start_time": "2022-11-22T10:52:31.571973Z"
    },
    "code_folding": [],
    "scrolled": true
   },
   "outputs": [],
   "source": [
    "from random import seed, randint\n",
    "\n",
    "seeds = [randint(0, 2e3) for _ in range(5)]\n",
    "n_topics = [10, 20, 30, 40, 50, 60, 90, 120]\n",
    "models = ['CTM_combined', 'ProdLDA', 'ETM', 'LDA']\n",
    "datasets = ['20NG', 'GN', 'M10']\n",
    "\n",
    "results = {\n",
    "    'Dataset': [],\n",
    "    'Seed': [],\n",
    "    'K': [],\n",
    "    'Model':[],\n",
    "    'NPMI': [],\n",
    "    'CV': [],\n",
    "    'IRBO': []\n",
    "}\n",
    "\n",
    "irbo = InvertedRBO(topk=10)\n",
    "\n",
    "for m in models:\n",
    "    for k in n_topics:\n",
    "        for seed in seeds:\n",
    "            for d in datasets:\n",
    "                data = get_dataset(d)\n",
    "\n",
    "                print(\"-\"*100)\n",
    "                print('Dataset:{}, Model:{}, K={}, seed={}'.format(d, m, k, seed))\n",
    "                print(\"-\"*100)\n",
    "\n",
    "                random.seed(seed)\n",
    "                torch.random.manual_seed(seed)\n",
    "\n",
    "                model = get_model(model_name=m,\n",
    "                                  num_topics=k,\n",
    "                                  dataset_name=d,\n",
    "                                  use_partitions=False,\n",
    "                                  epochs=50\n",
    "                                 )\n",
    "                hyp = None\n",
    "                if m=='LDA':\n",
    "                    hyp = {'passes':5, 'random_state':seed}\n",
    "                    \n",
    "                output = model.train_model(data, hyp)\n",
    "                \n",
    "                del model\n",
    "                torch.cuda.empty_cache()\n",
    "\n",
    "                #Hyperparams:\n",
    "                results['Dataset'].append(d)\n",
    "                results['Model'].append(m)\n",
    "                results['K'].append(k)\n",
    "                results['Seed'].append(seed)\n",
    "                #############\n",
    "                #Coherence Scores:\n",
    "                npmi = Coherence(texts=data.get_corpus(), measure='c_npmi')\n",
    "                results['NPMI'].append(npmi.score(output))\n",
    "                del npmi\n",
    "\n",
    "                cv = Coherence(texts=data.get_corpus(), measure='c_v')\n",
    "                results['CV'].append(cv.score(output))\n",
    "                del cv\n",
    "                #############\n",
    "                #Topic Diversity:\n",
    "                results['IRBO'].append(irbo.score(output))\n",
    "                print(results)"
   ]
  },
  {
   "cell_type": "markdown",
   "id": "5b04c4c1",
   "metadata": {},
   "source": [
    "# Save results as CSV"
   ]
  },
  {
   "cell_type": "code",
   "execution_count": null,
   "id": "549d4634",
   "metadata": {
    "ExecuteTime": {
     "end_time": "2022-11-22T07:18:44.081096Z",
     "start_time": "2022-11-22T07:18:44.081086Z"
    }
   },
   "outputs": [],
   "source": [
    "import pandas as pd\n",
    "Results = pd.DataFrame.from_dict(results)\n",
    "Results.to_csv('./results/comparision.csv', index=False)"
   ]
  }
 ],
 "metadata": {
  "hide_input": false,
  "kernelspec": {
   "display_name": "Python 3 (ipykernel)",
   "language": "python",
   "name": "python3"
  },
  "language_info": {
   "codemirror_mode": {
    "name": "ipython",
    "version": 3
   },
   "file_extension": ".py",
   "mimetype": "text/x-python",
   "name": "python",
   "nbconvert_exporter": "python",
   "pygments_lexer": "ipython3",
   "version": "3.7.13"
  },
  "toc": {
   "base_numbering": 1,
   "nav_menu": {},
   "number_sections": true,
   "sideBar": true,
   "skip_h1_title": false,
   "title_cell": "Table of Contents",
   "title_sidebar": "Contents",
   "toc_cell": false,
   "toc_position": {},
   "toc_section_display": true,
   "toc_window_display": false
  }
 },
 "nbformat": 4,
 "nbformat_minor": 5
}
